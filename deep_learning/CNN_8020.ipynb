{
  "nbformat": 4,
  "nbformat_minor": 0,
  "metadata": {
    "colab": {
      "provenance": [],
      "gpuType": "T4"
    },
    "kernelspec": {
      "name": "python3",
      "display_name": "Python 3"
    },
    "language_info": {
      "name": "python"
    },
    "accelerator": "GPU"
  },
  "cells": [
    {
      "cell_type": "code",
      "execution_count": 27,
      "metadata": {
        "colab": {
          "base_uri": "https://localhost:8080/"
        },
        "id": "_1WWVE6ivr_r",
        "outputId": "6a87226f-1bea-47b6-ab76-47bce36a6e26"
      },
      "outputs": [
        {
          "output_type": "stream",
          "name": "stdout",
          "text": [
            "Drive already mounted at /gdrive; to attempt to forcibly remount, call drive.mount(\"/gdrive\", force_remount=True).\n"
          ]
        }
      ],
      "source": [
        "from google.colab import drive\n",
        "drive.mount('/gdrive')"
      ]
    },
    {
      "cell_type": "code",
      "source": [
        "import numpy as np # linear algebra\n",
        "import pandas as pd # data processing, CSV file I/O (e.g. pd.read_csv)\n",
        "import matplotlib.pyplot as plt\n",
        "import seaborn as sns\n",
        "import glob\n",
        "import cv2\n",
        "import os"
      ],
      "metadata": {
        "id": "XuzUccKXz7Yy"
      },
      "execution_count": 28,
      "outputs": []
    },
    {
      "cell_type": "code",
      "source": [
        "import os\n",
        "print(os.listdir(\"/gdrive/My Drive/projetum/Banana\"))\n"
      ],
      "metadata": {
        "colab": {
          "base_uri": "https://localhost:8080/"
        },
        "id": "9pOWuyNj0ABB",
        "outputId": "166e2a52-5494-4bc9-a12c-684ddf09003e"
      },
      "execution_count": 29,
      "outputs": [
        {
          "output_type": "stream",
          "name": "stdout",
          "text": [
            "['overripe', 'ripe', 'rotten', 'unripe']\n"
          ]
        }
      ]
    },
    {
      "cell_type": "code",
      "source": [
        "DATADIR = '/gdrive/My Drive/projetum/Banana'\n",
        "CATEGORIES=[\"overripe\",\"ripe\",\"rotten\",\"unripe\"]\n"
      ],
      "metadata": {
        "id": "fS21WrZzLqY6"
      },
      "execution_count": 30,
      "outputs": []
    },
    {
      "cell_type": "code",
      "source": [
        "IMG_SIZE = 100"
      ],
      "metadata": {
        "id": "4gHHT5PE-MMP"
      },
      "execution_count": 31,
      "outputs": []
    },
    {
      "cell_type": "code",
      "source": [
        "all_data =[]\n",
        "\n",
        "def create_all_data():\n",
        "    for category in CATEGORIES:\n",
        "        path=os.path.join(DATADIR, category)\n",
        "        class_num=CATEGORIES.index(category)\n",
        "        for img in os.listdir(path):\n",
        "            try:\n",
        "                img_array=cv2.imread(os.path.join(path,img))\n",
        "                new_array=cv2.resize(img_array,(IMG_SIZE,IMG_SIZE))\n",
        "                all_data.append([new_array,class_num])\n",
        "            except Exception as e:\n",
        "                print(\"hata\")\n",
        "create_all_data()"
      ],
      "metadata": {
        "id": "q992c9li-Op3"
      },
      "execution_count": 32,
      "outputs": []
    },
    {
      "cell_type": "code",
      "source": [
        "print(\"toplam görüntü sayısı: \",len(all_data))"
      ],
      "metadata": {
        "colab": {
          "base_uri": "https://localhost:8080/"
        },
        "id": "U5VPQNqA_rXq",
        "outputId": "ad7773ed-c293-4682-b1d2-0e750bdde73c"
      },
      "execution_count": 33,
      "outputs": [
        {
          "output_type": "stream",
          "name": "stdout",
          "text": [
            "toplam görüntü sayısı:  13478\n"
          ]
        }
      ]
    },
    {
      "cell_type": "code",
      "source": [
        "X = []\n",
        "y = []\n",
        "\n",
        "for categories, label in all_data:\n",
        "  X.append(categories)\n",
        "  y.append(label)"
      ],
      "metadata": {
        "id": "0_uSbvcjUe0X"
      },
      "execution_count": 34,
      "outputs": []
    },
    {
      "cell_type": "code",
      "source": [
        "from sklearn.model_selection import train_test_split\n",
        "\n",
        "x_train, x_test, y_train, y_test = train_test_split(X, y, test_size=0.20, random_state =42)\n",
        "\n",
        "x_train, x_val, y_train, y_val = train_test_split(x_train, y_train, test_size=0.10, random_state=42)"
      ],
      "metadata": {
        "id": "4Oc_hkOMUj8G"
      },
      "execution_count": 35,
      "outputs": []
    },
    {
      "cell_type": "code",
      "source": [
        "x_train = np.array(x_train)\n",
        "x_test = np.array(x_test)\n",
        "\n",
        "y_train = np.array(y_train)\n",
        "y_test = np.array(y_test)\n",
        "\n",
        "x_val = np.array(x_val)\n",
        "y_val = np.array(y_val)"
      ],
      "metadata": {
        "id": "hz6IxUE_UofU"
      },
      "execution_count": 36,
      "outputs": []
    },
    {
      "cell_type": "code",
      "source": [
        "print(y_test)"
      ],
      "metadata": {
        "colab": {
          "base_uri": "https://localhost:8080/"
        },
        "id": "uVY12K3rp8na",
        "outputId": "64c6676e-a38a-4033-8bda-9ef611fdb586"
      },
      "execution_count": 37,
      "outputs": [
        {
          "output_type": "stream",
          "name": "stdout",
          "text": [
            "[1 1 3 ... 1 3 3]\n"
          ]
        }
      ]
    },
    {
      "cell_type": "code",
      "source": [
        "print(x_train.shape)\n",
        "print(x_test.shape)\n",
        "print(x_val.shape)\n",
        "\n",
        "print(y_train.shape)\n",
        "print(y_test.shape)\n",
        "print(y_val.shape)"
      ],
      "metadata": {
        "colab": {
          "base_uri": "https://localhost:8080/"
        },
        "id": "izR1RIleUqgD",
        "outputId": "a089358e-77aa-432f-b1dc-c26c3b356f43"
      },
      "execution_count": 38,
      "outputs": [
        {
          "output_type": "stream",
          "name": "stdout",
          "text": [
            "(9703, 100, 100, 3)\n",
            "(2696, 100, 100, 3)\n",
            "(1079, 100, 100, 3)\n",
            "(9703,)\n",
            "(2696,)\n",
            "(1079,)\n"
          ]
        }
      ]
    },
    {
      "cell_type": "code",
      "source": [
        "\n",
        "import tensorflow as tf\n",
        "\n",
        "train_yCl = tf.keras.utils.to_categorical(y_train, num_classes=4)\n",
        "test_yCl = tf.keras.utils.to_categorical(y_test, num_classes=4)\n",
        "valid_yCl = tf.keras.utils.to_categorical(y_val, num_classes=4)"
      ],
      "metadata": {
        "id": "aygmwpfaUt5_"
      },
      "execution_count": 39,
      "outputs": []
    },
    {
      "cell_type": "code",
      "source": [
        "print(y_test)"
      ],
      "metadata": {
        "colab": {
          "base_uri": "https://localhost:8080/"
        },
        "id": "pW6OdG_RpHH3",
        "outputId": "3bd360a8-80f0-4022-bd64-e09f823e0c19"
      },
      "execution_count": 40,
      "outputs": [
        {
          "output_type": "stream",
          "name": "stdout",
          "text": [
            "[1 1 3 ... 1 3 3]\n"
          ]
        }
      ]
    },
    {
      "cell_type": "code",
      "source": [
        "from keras.layers import Input, Dense, Activation, BatchNormalization, Flatten, Conv2D, MaxPooling2D, Dropout\n",
        "from keras.models import Sequential\n",
        "\n",
        "model = Sequential()\n",
        "\n",
        "model.add(Conv2D(64, (3,3), padding='same', input_shape=(IMG_SIZE, IMG_SIZE, 3)))\n",
        "model.add(Activation('relu'))\n",
        "model.add(Conv2D(64, (3,3), padding='same'))\n",
        "model.add(Activation('relu'))\n",
        "model.add(MaxPooling2D(pool_size=(2,2)))\n",
        "model.add(BatchNormalization())\n",
        "model.add(Dropout(0.1))\n",
        "\n",
        "model.add(Conv2D(64, (3,3), padding='same'))\n",
        "model.add(Activation('relu'))\n",
        "model.add(Conv2D(64, (3,3), padding='same'))\n",
        "model.add(Activation('relu'))\n",
        "model.add(MaxPooling2D(pool_size=(2,2)))\n",
        "model.add(BatchNormalization())\n",
        "model.add(Dropout(0.1))\n",
        "\n",
        "model.add(Conv2D(128, (3,3), padding='same'))\n",
        "model.add(Activation('relu'))\n",
        "model.add(Conv2D(128, (3,3), padding='same'))\n",
        "model.add(Activation('relu'))\n",
        "model.add(MaxPooling2D(pool_size=(2,2)))\n",
        "model.add(BatchNormalization())\n",
        "model.add(Dropout(0.1))\n",
        "\n",
        "model.add(Flatten())\n",
        "model.add(Dense(1024))\n",
        "model.add(Activation('relu'))\n",
        "model.add(Dropout(0.4))\n",
        "model.add(Dense(1024))\n",
        "model.add(Activation('relu'))\n",
        "model.add(Dense(4))\n",
        "model.add(Activation('softmax'))\n",
        "\n",
        "model.compile(loss=\"categorical_crossentropy\", optimizer=\"adam\", metrics=['accuracy'])"
      ],
      "metadata": {
        "id": "DcutY0cAUw2T"
      },
      "execution_count": 41,
      "outputs": []
    },
    {
      "cell_type": "code",
      "source": [
        "from tensorflow import keras\n",
        "\n",
        "callback_list = [\n",
        "    keras.callbacks.ModelCheckpoint(\n",
        "        filepath='model.h5',\n",
        "        monitor = 'val_accuracy', save_best_only=True, verbose=3\n",
        "    ),\n",
        "    keras.callbacks.EarlyStopping(monitor='val_loss', patience=10, verbose=3)\n",
        "]"
      ],
      "metadata": {
        "id": "TYsN7ExXU0_U"
      },
      "execution_count": 42,
      "outputs": []
    },
    {
      "cell_type": "code",
      "source": [
        "history = model.fit(x_train, train_yCl,\n",
        "                    batch_size=64,\n",
        "                    validation_data = (x_val, valid_yCl),\n",
        "                    callbacks = callback_list,\n",
        "                    epochs = 50\n",
        "                    )"
      ],
      "metadata": {
        "colab": {
          "base_uri": "https://localhost:8080/"
        },
        "id": "5NhGGxCFU3LW",
        "outputId": "ce204229-8533-4a39-d9f4-980e9d2b22c9"
      },
      "execution_count": 43,
      "outputs": [
        {
          "output_type": "stream",
          "name": "stdout",
          "text": [
            "Epoch 1/50\n",
            "152/152 [==============================] - ETA: 0s - loss: 0.8893 - accuracy: 0.7737\n",
            "Epoch 1: val_accuracy improved from -inf to 0.45227, saving model to model.h5\n"
          ]
        },
        {
          "output_type": "stream",
          "name": "stderr",
          "text": [
            "/usr/local/lib/python3.10/dist-packages/keras/src/engine/training.py:3103: UserWarning: You are saving your model as an HDF5 file via `model.save()`. This file format is considered legacy. We recommend using instead the native Keras format, e.g. `model.save('my_model.keras')`.\n",
            "  saving_api.save_model(\n"
          ]
        },
        {
          "output_type": "stream",
          "name": "stdout",
          "text": [
            "\b\b\b\b\b\b\b\b\b\b\b\b\b\b\b\b\b\b\b\b\b\b\b\b\b\b\b\b\b\b\b\b\b\b\b\b\b\b\b\b\b\b\b\b\b\b\b\b\b\b\b\b\b\b\b\b\b\b\b\b\b\b\b\b\b\b\b\b\b\b\b\b\b\b\b\b\b\b\b\b\b\b\b\b\r152/152 [==============================] - 28s 138ms/step - loss: 0.8893 - accuracy: 0.7737 - val_loss: 3.2547 - val_accuracy: 0.4523\n",
            "Epoch 2/50\n",
            "152/152 [==============================] - ETA: 0s - loss: 0.3508 - accuracy: 0.8728\n",
            "Epoch 2: val_accuracy improved from 0.45227 to 0.56163, saving model to model.h5\n",
            "152/152 [==============================] - 18s 119ms/step - loss: 0.3508 - accuracy: 0.8728 - val_loss: 1.8542 - val_accuracy: 0.5616\n",
            "Epoch 3/50\n",
            "152/152 [==============================] - ETA: 0s - loss: 0.2342 - accuracy: 0.9174\n",
            "Epoch 3: val_accuracy improved from 0.56163 to 0.56905, saving model to model.h5\n",
            "152/152 [==============================] - 18s 119ms/step - loss: 0.2342 - accuracy: 0.9174 - val_loss: 1.5878 - val_accuracy: 0.5690\n",
            "Epoch 4/50\n",
            "152/152 [==============================] - ETA: 0s - loss: 0.1940 - accuracy: 0.9290\n",
            "Epoch 4: val_accuracy improved from 0.56905 to 0.77201, saving model to model.h5\n",
            "152/152 [==============================] - 18s 119ms/step - loss: 0.1940 - accuracy: 0.9290 - val_loss: 0.8330 - val_accuracy: 0.7720\n",
            "Epoch 5/50\n",
            "152/152 [==============================] - ETA: 0s - loss: 0.1668 - accuracy: 0.9394\n",
            "Epoch 5: val_accuracy improved from 0.77201 to 0.87118, saving model to model.h5\n",
            "152/152 [==============================] - 18s 121ms/step - loss: 0.1668 - accuracy: 0.9394 - val_loss: 0.3715 - val_accuracy: 0.8712\n",
            "Epoch 6/50\n",
            "152/152 [==============================] - ETA: 0s - loss: 0.1509 - accuracy: 0.9453\n",
            "Epoch 6: val_accuracy did not improve from 0.87118\n",
            "152/152 [==============================] - 18s 116ms/step - loss: 0.1509 - accuracy: 0.9453 - val_loss: 0.4606 - val_accuracy: 0.8211\n",
            "Epoch 7/50\n",
            "152/152 [==============================] - ETA: 0s - loss: 0.1218 - accuracy: 0.9569\n",
            "Epoch 7: val_accuracy did not improve from 0.87118\n",
            "152/152 [==============================] - 18s 119ms/step - loss: 0.1218 - accuracy: 0.9569 - val_loss: 3.2881 - val_accuracy: 0.5468\n",
            "Epoch 8/50\n",
            "152/152 [==============================] - ETA: 0s - loss: 0.1051 - accuracy: 0.9637\n",
            "Epoch 8: val_accuracy did not improve from 0.87118\n",
            "152/152 [==============================] - 18s 120ms/step - loss: 0.1051 - accuracy: 0.9637 - val_loss: 1.3448 - val_accuracy: 0.7034\n",
            "Epoch 9/50\n",
            "152/152 [==============================] - ETA: 0s - loss: 0.0992 - accuracy: 0.9653\n",
            "Epoch 9: val_accuracy improved from 0.87118 to 0.89991, saving model to model.h5\n",
            "152/152 [==============================] - 19s 124ms/step - loss: 0.0992 - accuracy: 0.9653 - val_loss: 0.3847 - val_accuracy: 0.8999\n",
            "Epoch 10/50\n",
            "152/152 [==============================] - ETA: 0s - loss: 0.0883 - accuracy: 0.9717\n",
            "Epoch 10: val_accuracy did not improve from 0.89991\n",
            "152/152 [==============================] - 18s 119ms/step - loss: 0.0883 - accuracy: 0.9717 - val_loss: 1.3469 - val_accuracy: 0.6775\n",
            "Epoch 11/50\n",
            "152/152 [==============================] - ETA: 0s - loss: 0.0645 - accuracy: 0.9786\n",
            "Epoch 11: val_accuracy did not improve from 0.89991\n",
            "152/152 [==============================] - 18s 119ms/step - loss: 0.0645 - accuracy: 0.9786 - val_loss: 0.4379 - val_accuracy: 0.8934\n",
            "Epoch 12/50\n",
            "152/152 [==============================] - ETA: 0s - loss: 0.0659 - accuracy: 0.9780\n",
            "Epoch 12: val_accuracy did not improve from 0.89991\n",
            "152/152 [==============================] - 18s 119ms/step - loss: 0.0659 - accuracy: 0.9780 - val_loss: 1.0695 - val_accuracy: 0.7405\n",
            "Epoch 13/50\n",
            "152/152 [==============================] - ETA: 0s - loss: 0.0508 - accuracy: 0.9818\n",
            "Epoch 13: val_accuracy did not improve from 0.89991\n",
            "152/152 [==============================] - 18s 120ms/step - loss: 0.0508 - accuracy: 0.9818 - val_loss: 0.3906 - val_accuracy: 0.8990\n",
            "Epoch 14/50\n",
            "152/152 [==============================] - ETA: 0s - loss: 0.0427 - accuracy: 0.9854\n",
            "Epoch 14: val_accuracy did not improve from 0.89991\n",
            "152/152 [==============================] - 18s 120ms/step - loss: 0.0427 - accuracy: 0.9854 - val_loss: 0.7029 - val_accuracy: 0.8489\n",
            "Epoch 15/50\n",
            "152/152 [==============================] - ETA: 0s - loss: 0.0557 - accuracy: 0.9821\n",
            "Epoch 15: val_accuracy did not improve from 0.89991\n",
            "152/152 [==============================] - 18s 118ms/step - loss: 0.0557 - accuracy: 0.9821 - val_loss: 0.4372 - val_accuracy: 0.8842\n",
            "Epoch 15: early stopping\n"
          ]
        }
      ]
    },
    {
      "cell_type": "code",
      "source": [
        "score_train = model.evaluate(x_train, train_yCl)\n",
        "print(\"Validation Accuracy: \", score_train[1])\n",
        "\n",
        "score_test = model.evaluate(x_test, test_yCl)\n",
        "print(\"Validation Accuracy: \", score_test[1])\n",
        "\n",
        "score_valid = model.evaluate(x_val, valid_yCl)\n",
        "print(\"Validation Accuracy: \", score_valid[1])"
      ],
      "metadata": {
        "colab": {
          "base_uri": "https://localhost:8080/"
        },
        "id": "wO2jeVVMU6Oz",
        "outputId": "dd1aa9c2-dcc0-472e-fca5-d18edd376f22"
      },
      "execution_count": 44,
      "outputs": [
        {
          "output_type": "stream",
          "name": "stdout",
          "text": [
            "304/304 [==============================] - 5s 14ms/step - loss: 0.2300 - accuracy: 0.9257\n",
            "Validation Accuracy:  0.9256930947303772\n",
            "85/85 [==============================] - 1s 16ms/step - loss: 0.3757 - accuracy: 0.8928\n",
            "Validation Accuracy:  0.8928041458129883\n",
            "34/34 [==============================] - 1s 26ms/step - loss: 0.4372 - accuracy: 0.8842\n",
            "Validation Accuracy:  0.8841519951820374\n"
          ]
        }
      ]
    },
    {
      "cell_type": "code",
      "source": [
        "from sklearn.metrics import accuracy_score, precision_score, recall_score, f1_score, confusion_matrix, classification_report\n",
        "\n",
        "# Test seti üzerinde tahmin yapma\n",
        "Y_pred = model.predict(x_test, steps=len(x_test))\n",
        "y_pred = np.argmax(Y_pred, axis=1)"
      ],
      "metadata": {
        "colab": {
          "base_uri": "https://localhost:8080/"
        },
        "id": "ziJ7jJ7cX9s1",
        "outputId": "726ab05a-3276-4605-da01-42fbc8de13e4"
      },
      "execution_count": 45,
      "outputs": [
        {
          "output_type": "stream",
          "name": "stdout",
          "text": [
            "2696/2696 [==============================] - 8s 3ms/step\n"
          ]
        }
      ]
    },
    {
      "cell_type": "code",
      "source": [
        "print(y_pred)"
      ],
      "metadata": {
        "colab": {
          "base_uri": "https://localhost:8080/"
        },
        "id": "AiRanFPhu-kw",
        "outputId": "ab840ffe-e933-4c50-f236-2bee96d2c46b"
      },
      "execution_count": 46,
      "outputs": [
        {
          "output_type": "stream",
          "name": "stdout",
          "text": [
            "[1 1 3 ... 1 3 3]\n"
          ]
        }
      ]
    },
    {
      "cell_type": "code",
      "source": [
        "# Gerçek etiketleri alma\n",
        "y_true = y_test"
      ],
      "metadata": {
        "id": "Acmh3ZamYlEt"
      },
      "execution_count": 47,
      "outputs": []
    },
    {
      "cell_type": "code",
      "source": [
        "print(y_test)"
      ],
      "metadata": {
        "colab": {
          "base_uri": "https://localhost:8080/"
        },
        "id": "xTxdDqN-vmKn",
        "outputId": "7f061699-c7b7-439e-c243-afad9abf2229"
      },
      "execution_count": 48,
      "outputs": [
        {
          "output_type": "stream",
          "name": "stdout",
          "text": [
            "[1 1 3 ... 1 3 3]\n"
          ]
        }
      ]
    },
    {
      "cell_type": "code",
      "source": [
        "# Accuracy, Precision, Recall, F1 Score hesaplama\n",
        "accuracy = accuracy_score(y_test, y_pred)\n",
        "precision = precision_score(y_test, y_pred, average='weighted')\n",
        "recall = recall_score(y_test, y_pred, average='weighted')\n",
        "f1 = f1_score(y_test, y_pred, average='weighted')"
      ],
      "metadata": {
        "id": "9u8wy8FVYobp"
      },
      "execution_count": 49,
      "outputs": []
    },
    {
      "cell_type": "code",
      "source": [
        "# Karmaşıklık Matrisi\n",
        "conf_matrix = confusion_matrix(y_test, y_pred)"
      ],
      "metadata": {
        "id": "8bVMyEOYYrL0"
      },
      "execution_count": 50,
      "outputs": []
    },
    {
      "cell_type": "code",
      "source": [
        "\n",
        "# Classification Report\n",
        "class_report = classification_report(y_test, y_pred)\n"
      ],
      "metadata": {
        "id": "LZ1iGh5bYvcU"
      },
      "execution_count": 51,
      "outputs": []
    },
    {
      "cell_type": "code",
      "source": [
        "\n",
        "# Sonuçları gösterme\n",
        "print(\"Test Accuracy:\", accuracy)\n",
        "print(\"Precision:\", precision)\n",
        "print(\"Recall:\", recall)\n",
        "print(\"F1 Score:\", f1)\n",
        "print(\"Confusion Matrix:\")\n",
        "print(conf_matrix)\n",
        "print(\"Classification Report:\")\n",
        "print(class_report)"
      ],
      "metadata": {
        "colab": {
          "base_uri": "https://localhost:8080/"
        },
        "id": "O7qM1zhFYxOX",
        "outputId": "f157bade-78c4-46db-a618-f1d4f682f892"
      },
      "execution_count": 52,
      "outputs": [
        {
          "output_type": "stream",
          "name": "stdout",
          "text": [
            "Test Accuracy: 0.8928041543026706\n",
            "Precision: 0.8964584268240819\n",
            "Recall: 0.8928041543026706\n",
            "F1 Score: 0.8920133161865439\n",
            "Confusion Matrix:\n",
            "[[448  69  28   0]\n",
            " [  3 768  20   0]\n",
            " [ 35  49 760  58]\n",
            " [  0  17  10 431]]\n",
            "Classification Report:\n",
            "              precision    recall  f1-score   support\n",
            "\n",
            "           0       0.92      0.82      0.87       545\n",
            "           1       0.85      0.97      0.91       791\n",
            "           2       0.93      0.84      0.88       902\n",
            "           3       0.88      0.94      0.91       458\n",
            "\n",
            "    accuracy                           0.89      2696\n",
            "   macro avg       0.90      0.89      0.89      2696\n",
            "weighted avg       0.90      0.89      0.89      2696\n",
            "\n"
          ]
        }
      ]
    }
  ]
}