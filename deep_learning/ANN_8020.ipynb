{
  "nbformat": 4,
  "nbformat_minor": 0,
  "metadata": {
    "colab": {
      "provenance": []
    },
    "kernelspec": {
      "name": "python3",
      "display_name": "Python 3"
    },
    "language_info": {
      "name": "python"
    }
  },
  "cells": [
    {
      "cell_type": "code",
      "execution_count": 1,
      "metadata": {
        "colab": {
          "base_uri": "https://localhost:8080/"
        },
        "id": "N5GkkVH_r4xz",
        "outputId": "00e7699d-ef5b-4c8b-f694-d683ef38ed73"
      },
      "outputs": [
        {
          "output_type": "stream",
          "name": "stdout",
          "text": [
            "Mounted at /gdrive\n"
          ]
        }
      ],
      "source": [
        "from google.colab import drive\n",
        "drive.mount('/gdrive')"
      ]
    },
    {
      "cell_type": "code",
      "source": [
        "import numpy as np\n",
        "import pandas as pd\n",
        "import matplotlib.pyplot as plt\n",
        "import os\n",
        "import cv2\n",
        "import tensorflow as tf\n",
        "import seaborn as sns\n",
        "from sklearn.model_selection import train_test_split\n",
        "from keras.models import Sequential\n",
        "from keras.layers import Dense, Flatten\n",
        "from tensorflow.keras.utils import to_categorical\n",
        "from sklearn.metrics import accuracy_score, precision_score, recall_score, f1_score, confusion_matrix, classification_report"
      ],
      "metadata": {
        "id": "Hye7fnUbsETd"
      },
      "execution_count": 2,
      "outputs": []
    },
    {
      "cell_type": "code",
      "source": [
        "print(os.listdir(\"/gdrive/My Drive/Banana_Ripeness_Classification\"))"
      ],
      "metadata": {
        "colab": {
          "base_uri": "https://localhost:8080/"
        },
        "id": "4GUdX4EQsIam",
        "outputId": "5bcf8df3-4c4e-4180-e841-7b7b9bcd9557"
      },
      "execution_count": 3,
      "outputs": [
        {
          "output_type": "stream",
          "name": "stdout",
          "text": [
            "['unripe', 'ripe', 'rotten', 'overripe']\n"
          ]
        }
      ]
    },
    {
      "cell_type": "code",
      "source": [
        "DATADIR = '/gdrive/My Drive/Banana_Ripeness_Classification'\n",
        "CATEGORIES =[\"overripe\",\"ripe\",\"rotten\",\"unripe\"]\n",
        "IMG_SIZE = 100"
      ],
      "metadata": {
        "id": "XH-kTPWHsMr8"
      },
      "execution_count": 4,
      "outputs": []
    },
    {
      "cell_type": "code",
      "source": [
        "all_data =[]\n",
        "\n",
        "def create_all_data():\n",
        "    for category in CATEGORIES:\n",
        "        path=os.path.join(DATADIR, category)\n",
        "        class_num=CATEGORIES.index(category)\n",
        "        for img in os.listdir(path):\n",
        "            try:\n",
        "                img_array=cv2.imread(os.path.join(path,img))\n",
        "                new_array=cv2.resize(img_array,(IMG_SIZE,IMG_SIZE))\n",
        "                all_data.append([new_array,class_num])\n",
        "            except Exception as e:\n",
        "                print(\"hata\")\n",
        "create_all_data()"
      ],
      "metadata": {
        "id": "OFR89i_jsS58"
      },
      "execution_count": 5,
      "outputs": []
    },
    {
      "cell_type": "code",
      "source": [
        "print(\"toplam görüntü sayısı: \",len(all_data))"
      ],
      "metadata": {
        "colab": {
          "base_uri": "https://localhost:8080/"
        },
        "id": "JSArJRjisYkB",
        "outputId": "c884110f-d27c-46a2-dbcb-665b0f0c0950"
      },
      "execution_count": 6,
      "outputs": [
        {
          "output_type": "stream",
          "name": "stdout",
          "text": [
            "toplam görüntü sayısı:  13478\n"
          ]
        }
      ]
    },
    {
      "cell_type": "code",
      "source": [
        "X = []\n",
        "y = []\n",
        "for features, label in all_data:\n",
        "    X.append(features)\n",
        "    y.append(label)\n",
        "\n",
        "X = np.array(X).reshape(-1, IMG_SIZE * IMG_SIZE * 3) # Düzleştirme işlemi\n",
        "y = np.array(y)"
      ],
      "metadata": {
        "id": "y121PHBsxbZd"
      },
      "execution_count": 7,
      "outputs": []
    },
    {
      "cell_type": "code",
      "source": [
        "# Veriyi bölme\n",
        "x_train, x_test, y_train, y_test = train_test_split(X, y, test_size=0.20, random_state=42)\n",
        "x_train, x_val, y_train, y_val = train_test_split(x_train, y_train, test_size=0.10, random_state=42)\n"
      ],
      "metadata": {
        "id": "TgcovW_ZxKHY"
      },
      "execution_count": 8,
      "outputs": []
    },
    {
      "cell_type": "code",
      "source": [
        "# Etiketleri one-hot kodlama\n",
        "y_train = to_categorical(y_train, num_classes=4)\n",
        "y_test = to_categorical(y_test, num_classes=4)\n",
        "y_val = to_categorical(y_val, num_classes=4)"
      ],
      "metadata": {
        "id": "tTOt9-zi4GqF"
      },
      "execution_count": 9,
      "outputs": []
    },
    {
      "cell_type": "code",
      "source": [
        "from keras.models import Sequential\n",
        "from keras.layers import Dense"
      ],
      "metadata": {
        "id": "sCc4gNvpt-Qf"
      },
      "execution_count": 10,
      "outputs": []
    },
    {
      "cell_type": "code",
      "source": [
        "# Modeli oluşturma\n",
        "model = Sequential()\n",
        "model.add(Dense(1024, input_shape=(IMG_SIZE * IMG_SIZE * 3,), activation='relu'))\n",
        "model.add(Dense(512, activation='relu'))\n",
        "model.add(Dense(256, activation='relu'))\n",
        "model.add(Dense(4, activation='softmax')) # Çıkış katmanı 4 nöronlu olmalı ve 'softmax' kullanmalı\n"
      ],
      "metadata": {
        "id": "du_kKVIwuiZO"
      },
      "execution_count": 11,
      "outputs": []
    },
    {
      "cell_type": "code",
      "source": [
        "# Modeli derleme\n",
        "model.compile(loss=\"categorical_crossentropy\", optimizer=\"adam\", metrics=['accuracy'])\n"
      ],
      "metadata": {
        "id": "yONKP1-g28Tl"
      },
      "execution_count": 12,
      "outputs": []
    },
    {
      "cell_type": "code",
      "source": [
        "# Modeli eğitme\n",
        "model.fit(x_train, y_train, batch_size=32, epochs=10, validation_data=(x_val, y_val))"
      ],
      "metadata": {
        "id": "xnLyssbpwOcf",
        "colab": {
          "base_uri": "https://localhost:8080/"
        },
        "outputId": "73d2a227-0203-4f32-92c3-646efec14c2c"
      },
      "execution_count": 13,
      "outputs": [
        {
          "output_type": "stream",
          "name": "stdout",
          "text": [
            "Epoch 1/10\n",
            "304/304 [==============================] - 119s 383ms/step - loss: 575.9465 - accuracy: 0.4315 - val_loss: 26.5025 - val_accuracy: 0.4634\n",
            "Epoch 2/10\n",
            "304/304 [==============================] - 109s 359ms/step - loss: 13.5443 - accuracy: 0.5857 - val_loss: 8.6525 - val_accuracy: 0.5533\n",
            "Epoch 3/10\n",
            "304/304 [==============================] - 110s 362ms/step - loss: 9.2794 - accuracy: 0.5771 - val_loss: 8.0103 - val_accuracy: 0.4208\n",
            "Epoch 4/10\n",
            "304/304 [==============================] - 109s 358ms/step - loss: 4.6491 - accuracy: 0.6003 - val_loss: 5.5250 - val_accuracy: 0.5607\n",
            "Epoch 5/10\n",
            "304/304 [==============================] - 121s 397ms/step - loss: 4.3234 - accuracy: 0.5957 - val_loss: 3.9774 - val_accuracy: 0.5533\n",
            "Epoch 6/10\n",
            "304/304 [==============================] - 116s 381ms/step - loss: 2.5523 - accuracy: 0.6199 - val_loss: 0.9818 - val_accuracy: 0.6960\n",
            "Epoch 7/10\n",
            "304/304 [==============================] - 116s 383ms/step - loss: 0.9320 - accuracy: 0.6989 - val_loss: 1.2812 - val_accuracy: 0.5931\n",
            "Epoch 8/10\n",
            "304/304 [==============================] - 117s 383ms/step - loss: 1.2777 - accuracy: 0.6512 - val_loss: 1.0350 - val_accuracy: 0.7034\n",
            "Epoch 9/10\n",
            "304/304 [==============================] - 115s 380ms/step - loss: 1.7164 - accuracy: 0.6205 - val_loss: 1.8885 - val_accuracy: 0.5357\n",
            "Epoch 10/10\n",
            "304/304 [==============================] - 126s 414ms/step - loss: 1.8773 - accuracy: 0.6095 - val_loss: 1.5018 - val_accuracy: 0.5857\n"
          ]
        },
        {
          "output_type": "execute_result",
          "data": {
            "text/plain": [
              "<keras.src.callbacks.History at 0x7c622c2fab30>"
            ]
          },
          "metadata": {},
          "execution_count": 13
        }
      ]
    },
    {
      "cell_type": "code",
      "source": [
        "# Test seti üzerinde değerlendirme\n",
        "y_pred = np.argmax(model.predict(x_test), axis=1)\n",
        "y_true = np.argmax(y_test, axis=1)"
      ],
      "metadata": {
        "id": "PF5DhzGK44RF",
        "colab": {
          "base_uri": "https://localhost:8080/"
        },
        "outputId": "48259ed7-1a9e-449e-e0dd-7abe0157ea57"
      },
      "execution_count": 14,
      "outputs": [
        {
          "output_type": "stream",
          "name": "stdout",
          "text": [
            "85/85 [==============================] - 3s 36ms/step\n"
          ]
        }
      ]
    },
    {
      "cell_type": "code",
      "source": [
        "# Performans metrikleri\n",
        "accuracy = accuracy_score(y_true, y_pred)\n",
        "precision = precision_score(y_true, y_pred, average=\"weighted\")\n",
        "recall = recall_score(y_true, y_pred, average=\"weighted\")\n",
        "f1 = f1_score(y_true, y_pred, average=\"weighted\")\n"
      ],
      "metadata": {
        "id": "o_ssXtuI5Aej"
      },
      "execution_count": 15,
      "outputs": []
    },
    {
      "cell_type": "code",
      "source": [
        "# Sonuçları gösterme\n",
        "print(\"Accuracy: \", accuracy)\n",
        "print(\"Precision: \", precision)\n",
        "print(\"Recall: \", recall)\n",
        "print(\"F1 Score: \", f1)\n",
        "print(\"\\nConfusion Matrix:\\n\", confusion_matrix(y_true, y_pred))\n",
        "print(\"\\nClassification Report:\\n\", classification_report(y_true, y_pred))"
      ],
      "metadata": {
        "colab": {
          "base_uri": "https://localhost:8080/"
        },
        "id": "bQg0L7btdW6v",
        "outputId": "62b78625-f36e-4521-9681-ae7e39071942"
      },
      "execution_count": 17,
      "outputs": [
        {
          "output_type": "stream",
          "name": "stdout",
          "text": [
            "Accuracy:  0.5890207715133531\n",
            "Precision:  0.6050741046217956\n",
            "Recall:  0.5890207715133531\n",
            "F1 Score:  0.5423196183624076\n",
            "\n",
            "Confusion Matrix:\n",
            " [[ 40 191 298  16]\n",
            " [ 23 436 320  12]\n",
            " [  4  66 779  53]\n",
            " [  0  64  61 333]]\n",
            "\n",
            "Classification Report:\n",
            "               precision    recall  f1-score   support\n",
            "\n",
            "           0       0.60      0.07      0.13       545\n",
            "           1       0.58      0.55      0.56       791\n",
            "           2       0.53      0.86      0.66       902\n",
            "           3       0.80      0.73      0.76       458\n",
            "\n",
            "    accuracy                           0.59      2696\n",
            "   macro avg       0.63      0.55      0.53      2696\n",
            "weighted avg       0.61      0.59      0.54      2696\n",
            "\n"
          ]
        }
      ]
    }
  ]
}