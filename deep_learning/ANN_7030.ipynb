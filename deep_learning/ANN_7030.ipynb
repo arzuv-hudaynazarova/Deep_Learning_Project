{
  "nbformat": 4,
  "nbformat_minor": 0,
  "metadata": {
    "colab": {
      "provenance": []
    },
    "kernelspec": {
      "name": "python3",
      "display_name": "Python 3"
    },
    "language_info": {
      "name": "python"
    }
  },
  "cells": [
    {
      "cell_type": "code",
      "execution_count": 1,
      "metadata": {
        "colab": {
          "base_uri": "https://localhost:8080/"
        },
        "id": "Ej54CEon6ky1",
        "outputId": "f72cd3dc-96a9-4067-ef61-54a23b16de1c"
      },
      "outputs": [
        {
          "output_type": "stream",
          "name": "stdout",
          "text": [
            "Mounted at /gdrive\n"
          ]
        }
      ],
      "source": [
        "from google.colab import drive\n",
        "drive.mount('/gdrive')"
      ]
    },
    {
      "cell_type": "code",
      "source": [
        "import numpy as np\n",
        "import pandas as pd\n",
        "import matplotlib.pyplot as plt\n",
        "import os\n",
        "import cv2\n",
        "import tensorflow as tf\n",
        "import seaborn as sns\n",
        "from sklearn.model_selection import train_test_split\n",
        "from keras.models import Sequential\n",
        "from keras.layers import Dense, Flatten\n",
        "from tensorflow.keras.utils import to_categorical\n",
        "from sklearn.metrics import accuracy_score, precision_score, recall_score, f1_score, confusion_matrix, classification_report\n"
      ],
      "metadata": {
        "id": "5y9jPcUj6pfr"
      },
      "execution_count": 18,
      "outputs": []
    },
    {
      "cell_type": "code",
      "source": [
        "print(os.listdir(\"/gdrive/My Drive/Banana_Ripeness_Classification\"))"
      ],
      "metadata": {
        "id": "P9Pb6sBw6rS0",
        "colab": {
          "base_uri": "https://localhost:8080/"
        },
        "outputId": "9b1febd0-1345-4b8c-e5a9-559ffe6e5d74"
      },
      "execution_count": 21,
      "outputs": [
        {
          "output_type": "stream",
          "name": "stdout",
          "text": [
            "['unripe', 'ripe', 'rotten', 'overripe']\n"
          ]
        }
      ]
    },
    {
      "cell_type": "code",
      "source": [
        "# Veri setini yükleme ve ön işleme\n",
        "DATADIR = '/gdrive/My Drive/Banana_Ripeness_Classification'\n",
        "CATEGORIES = [\"overripe\", \"ripe\", \"rotten\", \"unripe\"]\n",
        "IMG_SIZE = 100"
      ],
      "metadata": {
        "id": "wuQ657NkYbnW"
      },
      "execution_count": 22,
      "outputs": []
    },
    {
      "cell_type": "code",
      "source": [
        "all_data = []\n",
        "def create_all_data():\n",
        "    for category in CATEGORIES:\n",
        "        path = os.path.join(DATADIR, category)\n",
        "        class_num = CATEGORIES.index(category)\n",
        "        for img in os.listdir(path):\n",
        "            try:\n",
        "                img_array = cv2.imread(os.path.join(path, img))\n",
        "                new_array = cv2.resize(img_array, (IMG_SIZE, IMG_SIZE))\n",
        "                all_data.append([new_array, class_num])\n",
        "            except Exception as e:\n",
        "                pass\n",
        "\n",
        "create_all_data()"
      ],
      "metadata": {
        "id": "IvZHRxmN6wR7"
      },
      "execution_count": 23,
      "outputs": []
    },
    {
      "cell_type": "code",
      "source": [
        "print(\"toplam görüntü sayısı: \",len(all_data))"
      ],
      "metadata": {
        "id": "OyoDjaqh6yir",
        "colab": {
          "base_uri": "https://localhost:8080/"
        },
        "outputId": "ea9806cb-d792-4ad5-de42-ba4515e7e34c"
      },
      "execution_count": 24,
      "outputs": [
        {
          "output_type": "stream",
          "name": "stdout",
          "text": [
            "toplam görüntü sayısı:  13478\n"
          ]
        }
      ]
    },
    {
      "cell_type": "code",
      "source": [
        "X = []\n",
        "y = []\n",
        "for features, label in all_data:\n",
        "    X.append(features)\n",
        "    y.append(label)\n",
        "\n",
        "X = np.array(X).reshape(-1, IMG_SIZE * IMG_SIZE * 3) # Düzleştirme işlemi\n",
        "y = np.array(y)"
      ],
      "metadata": {
        "id": "I4wTYGqG617u"
      },
      "execution_count": 25,
      "outputs": []
    },
    {
      "cell_type": "code",
      "source": [
        "# Veriyi bölme\n",
        "x_train, x_test, y_train, y_test = train_test_split(X, y, test_size=0.30, random_state=42)\n",
        "x_train, x_val, y_train, y_val = train_test_split(x_train, y_train, test_size=0.10, random_state=42)\n"
      ],
      "metadata": {
        "id": "ep0f33R564vj"
      },
      "execution_count": 26,
      "outputs": []
    },
    {
      "cell_type": "code",
      "source": [
        "# Etiketleri one-hot kodlama\n",
        "y_train = to_categorical(y_train, num_classes=4)\n",
        "y_test = to_categorical(y_test, num_classes=4)\n",
        "y_val = to_categorical(y_val, num_classes=4)\n"
      ],
      "metadata": {
        "id": "jyCBnyfJ7Efa"
      },
      "execution_count": 27,
      "outputs": []
    },
    {
      "cell_type": "code",
      "source": [
        "from keras.models import Sequential\n",
        "from keras.layers import Dense"
      ],
      "metadata": {
        "id": "oJykA3h37G0y"
      },
      "execution_count": 28,
      "outputs": []
    },
    {
      "cell_type": "code",
      "source": [
        "# Modeli oluşturma\n",
        "model = Sequential()\n",
        "model.add(Dense(1024, input_shape=(IMG_SIZE * IMG_SIZE * 3,), activation='relu'))\n",
        "model.add(Dense(512, activation='relu'))\n",
        "model.add(Dense(256, activation='relu'))\n",
        "model.add(Dense(4, activation='softmax')) # Çıkış katmanı 4 nöronlu olmalı ve 'softmax' kullanmalı\n"
      ],
      "metadata": {
        "id": "VQbaz_nJ7JXi"
      },
      "execution_count": 29,
      "outputs": []
    },
    {
      "cell_type": "code",
      "source": [
        "# Modeli derleme\n",
        "model.compile(loss=\"categorical_crossentropy\", optimizer=\"adam\", metrics=['accuracy'])\n"
      ],
      "metadata": {
        "id": "PLoFG6Un7Lly"
      },
      "execution_count": 30,
      "outputs": []
    },
    {
      "cell_type": "code",
      "source": [
        "# Modeli eğitme\n",
        "model.fit(x_train, y_train, batch_size=32, epochs=10, validation_data=(x_val, y_val))\n"
      ],
      "metadata": {
        "id": "92fXM9fP7O0a",
        "colab": {
          "base_uri": "https://localhost:8080/"
        },
        "outputId": "dfaa30f1-c33f-41fd-93ec-88a1fc80ef1e"
      },
      "execution_count": 33,
      "outputs": [
        {
          "output_type": "stream",
          "name": "stdout",
          "text": [
            "Epoch 1/10\n",
            "266/266 [==============================] - 211s 792ms/step - loss: 33.6644 - accuracy: 0.5058 - val_loss: 41.3056 - val_accuracy: 0.5021\n",
            "Epoch 2/10\n",
            "266/266 [==============================] - 207s 778ms/step - loss: 19.8143 - accuracy: 0.5102 - val_loss: 13.6941 - val_accuracy: 0.5275\n",
            "Epoch 3/10\n",
            "266/266 [==============================] - 209s 785ms/step - loss: 7.0698 - accuracy: 0.5515 - val_loss: 14.0578 - val_accuracy: 0.3379\n",
            "Epoch 4/10\n",
            "266/266 [==============================] - 203s 763ms/step - loss: 4.3170 - accuracy: 0.5490 - val_loss: 3.5881 - val_accuracy: 0.4936\n",
            "Epoch 5/10\n",
            "266/266 [==============================] - 209s 786ms/step - loss: 2.2632 - accuracy: 0.5912 - val_loss: 2.2871 - val_accuracy: 0.4778\n",
            "Epoch 6/10\n",
            "266/266 [==============================] - 204s 768ms/step - loss: 1.6898 - accuracy: 0.6226 - val_loss: 2.7517 - val_accuracy: 0.4725\n",
            "Epoch 7/10\n",
            "266/266 [==============================] - 207s 780ms/step - loss: 1.7524 - accuracy: 0.6097 - val_loss: 1.1589 - val_accuracy: 0.6949\n",
            "Epoch 8/10\n",
            "266/266 [==============================] - 203s 765ms/step - loss: 4.8316 - accuracy: 0.5385 - val_loss: 1.5655 - val_accuracy: 0.5265\n",
            "Epoch 9/10\n",
            "266/266 [==============================] - 205s 770ms/step - loss: 1.1834 - accuracy: 0.6028 - val_loss: 2.4864 - val_accuracy: 0.3729\n",
            "Epoch 10/10\n",
            "266/266 [==============================] - 200s 752ms/step - loss: 1.2354 - accuracy: 0.5300 - val_loss: 1.4607 - val_accuracy: 0.2966\n"
          ]
        },
        {
          "output_type": "execute_result",
          "data": {
            "text/plain": [
              "<keras.src.callbacks.History at 0x7fb3318cb640>"
            ]
          },
          "metadata": {},
          "execution_count": 33
        }
      ]
    },
    {
      "cell_type": "code",
      "source": [
        "# Test seti üzerinde değerlendirme\n",
        "y_pred = np.argmax(model.predict(x_test), axis=1)\n",
        "y_true = np.argmax(y_test, axis=1)"
      ],
      "metadata": {
        "id": "19lUAxNS7Rk9",
        "colab": {
          "base_uri": "https://localhost:8080/"
        },
        "outputId": "2d1726a8-7fd3-4a9c-d410-cee298245098"
      },
      "execution_count": 34,
      "outputs": [
        {
          "output_type": "stream",
          "name": "stdout",
          "text": [
            "127/127 [==============================] - 15s 118ms/step\n"
          ]
        }
      ]
    },
    {
      "cell_type": "code",
      "source": [
        "# Performans metrikleri\n",
        "accuracy = accuracy_score(y_true, y_pred)\n",
        "precision = precision_score(y_true, y_pred, average=\"weighted\")\n",
        "recall = recall_score(y_true, y_pred, average=\"weighted\")\n",
        "f1 = f1_score(y_true, y_pred, average=\"weighted\")"
      ],
      "metadata": {
        "id": "34dkkbEr7WaM",
        "colab": {
          "base_uri": "https://localhost:8080/"
        },
        "outputId": "ee620100-9ead-4331-fcd3-0bc23616dc90"
      },
      "execution_count": 35,
      "outputs": [
        {
          "output_type": "stream",
          "name": "stderr",
          "text": [
            "/usr/local/lib/python3.10/dist-packages/sklearn/metrics/_classification.py:1344: UndefinedMetricWarning: Precision is ill-defined and being set to 0.0 in labels with no predicted samples. Use `zero_division` parameter to control this behavior.\n",
            "  _warn_prf(average, modifier, msg_start, len(result))\n"
          ]
        }
      ]
    },
    {
      "cell_type": "code",
      "source": [
        "# Sonuçları gösterme\n",
        "print(\"Accuracy: \", accuracy)\n",
        "print(\"Precision: \", precision)\n",
        "print(\"Recall: \", recall)\n",
        "print(\"F1 Score: \", f1)\n",
        "print(\"\\nConfusion Matrix:\\n\", confusion_matrix(y_true, y_pred))\n",
        "print(\"\\nClassification Report:\\n\", classification_report(y_true, y_pred))"
      ],
      "metadata": {
        "colab": {
          "base_uri": "https://localhost:8080/"
        },
        "id": "0zCIgJIyZk3j",
        "outputId": "67c2a0bd-592c-42a7-c95d-d5f8fc56eddd"
      },
      "execution_count": 37,
      "outputs": [
        {
          "output_type": "stream",
          "name": "stdout",
          "text": [
            "Accuracy:  0.3365479723046489\n",
            "Precision:  0.27491133810391855\n",
            "Recall:  0.3365479723046489\n",
            "F1 Score:  0.17381507566626353\n",
            "\n",
            "Confusion Matrix:\n",
            " [[   0    1  821    0]\n",
            " [   0   11 1182    0]\n",
            " [   0    8 1350    0]\n",
            " [   0    0  671    0]]\n",
            "\n",
            "Classification Report:\n",
            "               precision    recall  f1-score   support\n",
            "\n",
            "           0       0.00      0.00      0.00       822\n",
            "           1       0.55      0.01      0.02      1193\n",
            "           2       0.34      0.99      0.50      1358\n",
            "           3       0.00      0.00      0.00       671\n",
            "\n",
            "    accuracy                           0.34      4044\n",
            "   macro avg       0.22      0.25      0.13      4044\n",
            "weighted avg       0.27      0.34      0.17      4044\n",
            "\n"
          ]
        },
        {
          "output_type": "stream",
          "name": "stderr",
          "text": [
            "/usr/local/lib/python3.10/dist-packages/sklearn/metrics/_classification.py:1344: UndefinedMetricWarning: Precision and F-score are ill-defined and being set to 0.0 in labels with no predicted samples. Use `zero_division` parameter to control this behavior.\n",
            "  _warn_prf(average, modifier, msg_start, len(result))\n",
            "/usr/local/lib/python3.10/dist-packages/sklearn/metrics/_classification.py:1344: UndefinedMetricWarning: Precision and F-score are ill-defined and being set to 0.0 in labels with no predicted samples. Use `zero_division` parameter to control this behavior.\n",
            "  _warn_prf(average, modifier, msg_start, len(result))\n",
            "/usr/local/lib/python3.10/dist-packages/sklearn/metrics/_classification.py:1344: UndefinedMetricWarning: Precision and F-score are ill-defined and being set to 0.0 in labels with no predicted samples. Use `zero_division` parameter to control this behavior.\n",
            "  _warn_prf(average, modifier, msg_start, len(result))\n"
          ]
        }
      ]
    }
  ]
}