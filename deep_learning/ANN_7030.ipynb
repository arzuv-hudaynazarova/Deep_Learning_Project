{
  "nbformat": 4,
  "nbformat_minor": 0,
  "metadata": {
    "colab": {
      "provenance": [],
      "gpuType": "T4"
    },
    "kernelspec": {
      "name": "python3",
      "display_name": "Python 3"
    },
    "language_info": {
      "name": "python"
    },
    "accelerator": "GPU"
  },
  "cells": [
    {
      "cell_type": "code",
      "execution_count": 1,
      "metadata": {
        "colab": {
          "base_uri": "https://localhost:8080/"
        },
        "id": "N5GkkVH_r4xz",
        "outputId": "ba6de6f1-fb86-4bc2-cbb8-4af898328a18"
      },
      "outputs": [
        {
          "output_type": "stream",
          "name": "stdout",
          "text": [
            "Mounted at /gdrive\n"
          ]
        }
      ],
      "source": [
        "from google.colab import drive\n",
        "drive.mount('/gdrive')"
      ]
    },
    {
      "cell_type": "code",
      "source": [
        "import numpy as np\n",
        "import pandas as pd\n",
        "import matplotlib.pyplot as plt\n",
        "import os\n",
        "import cv2\n",
        "import tensorflow as tf\n",
        "import seaborn as sns\n",
        "from sklearn.model_selection import train_test_split\n",
        "from keras.models import Sequential\n",
        "from keras.layers import Dense, Flatten\n",
        "from tensorflow.keras.utils import to_categorical\n",
        "from sklearn.metrics import accuracy_score, precision_score, recall_score, f1_score, confusion_matrix, classification_report"
      ],
      "metadata": {
        "id": "Hye7fnUbsETd"
      },
      "execution_count": 2,
      "outputs": []
    },
    {
      "cell_type": "code",
      "source": [
        "print(os.listdir(\"/gdrive/My Drive/Banana_Ripeness_Classification\"))"
      ],
      "metadata": {
        "colab": {
          "base_uri": "https://localhost:8080/"
        },
        "id": "4GUdX4EQsIam",
        "outputId": "b3782c5e-c34c-48b5-a6b0-d2f5adff1b13"
      },
      "execution_count": 3,
      "outputs": [
        {
          "output_type": "stream",
          "name": "stdout",
          "text": [
            "['unripe', 'ripe', 'rotten', 'overripe']\n"
          ]
        }
      ]
    },
    {
      "cell_type": "code",
      "source": [
        "DATADIR = '/gdrive/My Drive/Banana_Ripeness_Classification'\n",
        "CATEGORIES =[\"overripe\",\"ripe\",\"rotten\",\"unripe\"]\n",
        "IMG_SIZE = 100"
      ],
      "metadata": {
        "id": "XH-kTPWHsMr8"
      },
      "execution_count": 4,
      "outputs": []
    },
    {
      "cell_type": "code",
      "source": [
        "all_data =[]\n",
        "\n",
        "def create_all_data():\n",
        "    for category in CATEGORIES:\n",
        "        path=os.path.join(DATADIR, category)\n",
        "        class_num=CATEGORIES.index(category)\n",
        "        for img in os.listdir(path):\n",
        "            try:\n",
        "                img_array=cv2.imread(os.path.join(path,img))\n",
        "                new_array=cv2.resize(img_array,(IMG_SIZE,IMG_SIZE))\n",
        "                all_data.append([new_array,class_num])\n",
        "            except Exception as e:\n",
        "                print(\"hata\")\n",
        "create_all_data()"
      ],
      "metadata": {
        "id": "OFR89i_jsS58"
      },
      "execution_count": 5,
      "outputs": []
    },
    {
      "cell_type": "code",
      "source": [
        "print(\"toplam görüntü sayısı: \",len(all_data))"
      ],
      "metadata": {
        "colab": {
          "base_uri": "https://localhost:8080/"
        },
        "id": "JSArJRjisYkB",
        "outputId": "da76f8e1-a46a-44c9-d6b0-8968d8f8fe59"
      },
      "execution_count": 6,
      "outputs": [
        {
          "output_type": "stream",
          "name": "stdout",
          "text": [
            "toplam görüntü sayısı:  13478\n"
          ]
        }
      ]
    },
    {
      "cell_type": "code",
      "source": [
        "X = []\n",
        "y = []\n",
        "for features, label in all_data:\n",
        "    X.append(features)\n",
        "    y.append(label)\n",
        "\n",
        "X = np.array(X).reshape(-1, IMG_SIZE * IMG_SIZE * 3) # Düzleştirme işlemi\n",
        "y = np.array(y)"
      ],
      "metadata": {
        "id": "y121PHBsxbZd"
      },
      "execution_count": 7,
      "outputs": []
    },
    {
      "cell_type": "code",
      "source": [
        "# Veriyi bölme\n",
        "x_train, x_test, y_train, y_test = train_test_split(X, y, test_size=0.30, random_state=42)\n",
        "x_train, x_val, y_train, y_val = train_test_split(x_train, y_train, test_size=0.10, random_state=42)\n"
      ],
      "metadata": {
        "id": "TgcovW_ZxKHY"
      },
      "execution_count": 8,
      "outputs": []
    },
    {
      "cell_type": "code",
      "source": [
        "# Etiketleri one-hot kodlama\n",
        "y_train = to_categorical(y_train, num_classes=4)\n",
        "y_test = to_categorical(y_test, num_classes=4)\n",
        "y_val = to_categorical(y_val, num_classes=4)"
      ],
      "metadata": {
        "id": "tTOt9-zi4GqF"
      },
      "execution_count": 10,
      "outputs": []
    },
    {
      "cell_type": "code",
      "source": [
        "from keras.models import Sequential\n",
        "from keras.layers import Dense"
      ],
      "metadata": {
        "id": "sCc4gNvpt-Qf"
      },
      "execution_count": 9,
      "outputs": []
    },
    {
      "cell_type": "code",
      "source": [
        "# Modeli oluşturma\n",
        "model = Sequential()\n",
        "model.add(Dense(1024, input_shape=(IMG_SIZE * IMG_SIZE * 3,), activation='relu'))\n",
        "model.add(Dense(512, activation='relu'))\n",
        "model.add(Dense(256, activation='relu'))\n",
        "model.add(Dense(4, activation='softmax')) # Çıkış katmanı 4 nöronlu olmalı ve 'softmax' kullanmalı\n"
      ],
      "metadata": {
        "id": "du_kKVIwuiZO"
      },
      "execution_count": 11,
      "outputs": []
    },
    {
      "cell_type": "code",
      "source": [
        "# Modeli derleme\n",
        "model.compile(loss=\"categorical_crossentropy\", optimizer=\"adam\", metrics=['accuracy'])\n"
      ],
      "metadata": {
        "id": "yONKP1-g28Tl"
      },
      "execution_count": 12,
      "outputs": []
    },
    {
      "cell_type": "code",
      "source": [
        "# Modeli eğitme\n",
        "model.fit(x_train, y_train, batch_size=32, epochs=10, validation_data=(x_val, y_val))"
      ],
      "metadata": {
        "id": "xnLyssbpwOcf",
        "colab": {
          "base_uri": "https://localhost:8080/"
        },
        "outputId": "19ccd2b3-d826-4c16-839d-c7ea81183962"
      },
      "execution_count": 13,
      "outputs": [
        {
          "output_type": "stream",
          "name": "stdout",
          "text": [
            "Epoch 1/10\n",
            "266/266 [==============================] - 8s 17ms/step - loss: 468.4783 - accuracy: 0.4397 - val_loss: 8.0329 - val_accuracy: 0.6684\n",
            "Epoch 2/10\n",
            "266/266 [==============================] - 3s 13ms/step - loss: 12.5708 - accuracy: 0.5799 - val_loss: 13.2103 - val_accuracy: 0.4333\n",
            "Epoch 3/10\n",
            "266/266 [==============================] - 4s 13ms/step - loss: 7.3528 - accuracy: 0.5781 - val_loss: 3.8067 - val_accuracy: 0.6822\n",
            "Epoch 4/10\n",
            "266/266 [==============================] - 4s 14ms/step - loss: 3.9275 - accuracy: 0.6217 - val_loss: 2.4594 - val_accuracy: 0.6758\n",
            "Epoch 5/10\n",
            "266/266 [==============================] - 3s 13ms/step - loss: 2.2531 - accuracy: 0.6547 - val_loss: 3.9932 - val_accuracy: 0.5975\n",
            "Epoch 6/10\n",
            "266/266 [==============================] - 3s 13ms/step - loss: 8.8731 - accuracy: 0.5382 - val_loss: 4.8216 - val_accuracy: 0.5307\n",
            "Epoch 7/10\n",
            "266/266 [==============================] - 3s 13ms/step - loss: 2.6823 - accuracy: 0.6170 - val_loss: 1.5755 - val_accuracy: 0.6282\n",
            "Epoch 8/10\n",
            "266/266 [==============================] - 4s 14ms/step - loss: 1.3391 - accuracy: 0.6730 - val_loss: 2.4444 - val_accuracy: 0.4672\n",
            "Epoch 9/10\n",
            "266/266 [==============================] - 3s 13ms/step - loss: 1.6159 - accuracy: 0.6554 - val_loss: 1.1484 - val_accuracy: 0.7108\n",
            "Epoch 10/10\n",
            "266/266 [==============================] - 3s 13ms/step - loss: 1.8115 - accuracy: 0.6363 - val_loss: 15.2411 - val_accuracy: 0.3453\n"
          ]
        },
        {
          "output_type": "execute_result",
          "data": {
            "text/plain": [
              "<keras.src.callbacks.History at 0x7f827ffb3880>"
            ]
          },
          "metadata": {},
          "execution_count": 13
        }
      ]
    },
    {
      "cell_type": "code",
      "source": [
        "# Test seti üzerinde değerlendirme\n",
        "y_pred = np.argmax(model.predict(x_test), axis=1)\n",
        "y_true = np.argmax(y_test, axis=1)"
      ],
      "metadata": {
        "id": "PF5DhzGK44RF",
        "colab": {
          "base_uri": "https://localhost:8080/"
        },
        "outputId": "aab49cff-5c14-4ba0-f767-688e82f8b35d"
      },
      "execution_count": 14,
      "outputs": [
        {
          "output_type": "stream",
          "name": "stdout",
          "text": [
            "127/127 [==============================] - 0s 2ms/step\n"
          ]
        }
      ]
    },
    {
      "cell_type": "code",
      "source": [
        "# Performans metrikleri\n",
        "accuracy = accuracy_score(y_true, y_pred)\n",
        "precision = precision_score(y_true, y_pred, average=\"weighted\", zero_division=0)\n",
        "recall = recall_score(y_true, y_pred, average=\"weighted\", zero_division=0)\n",
        "f1 = f1_score(y_true, y_pred, average=\"weighted\", zero_division=0)\n"
      ],
      "metadata": {
        "id": "o_ssXtuI5Aej"
      },
      "execution_count": 17,
      "outputs": []
    },
    {
      "cell_type": "code",
      "source": [
        "# Sonuçları gösterme\n",
        "print(\"Accuracy: \", accuracy)\n",
        "print(\"Precision: \", precision)\n",
        "print(\"Recall: \", recall)\n",
        "print(\"F1 Score: \", f1)\n",
        "print(\"\\nConfusion Matrix:\\n\", confusion_matrix(y_true, y_pred))\n",
        "print(\"\\nClassification Report:\\n\", classification_report(y_true, y_pred))"
      ],
      "metadata": {
        "colab": {
          "base_uri": "https://localhost:8080/"
        },
        "id": "bQg0L7btdW6v",
        "outputId": "69c7b1f4-8686-4174-ddb9-053f2a7072c7"
      },
      "execution_count": 18,
      "outputs": [
        {
          "output_type": "stream",
          "name": "stdout",
          "text": [
            "Accuracy:  0.3365479723046489\n",
            "Precision:  0.39467035201444134\n",
            "Recall:  0.3365479723046489\n",
            "F1 Score:  0.22205808930669213\n",
            "\n",
            "Confusion Matrix:\n",
            " [[ 106  687   29    0]\n",
            " [  28 1165    0    0]\n",
            " [ 314  954   90    0]\n",
            " [   1  667    3    0]]\n",
            "\n",
            "Classification Report:\n",
            "               precision    recall  f1-score   support\n",
            "\n",
            "           0       0.24      0.13      0.17       822\n",
            "           1       0.34      0.98      0.50      1193\n",
            "           2       0.74      0.07      0.12      1358\n",
            "           3       0.00      0.00      0.00       671\n",
            "\n",
            "    accuracy                           0.34      4044\n",
            "   macro avg       0.33      0.29      0.20      4044\n",
            "weighted avg       0.39      0.34      0.22      4044\n",
            "\n"
          ]
        },
        {
          "output_type": "stream",
          "name": "stderr",
          "text": [
            "/usr/local/lib/python3.10/dist-packages/sklearn/metrics/_classification.py:1344: UndefinedMetricWarning: Precision and F-score are ill-defined and being set to 0.0 in labels with no predicted samples. Use `zero_division` parameter to control this behavior.\n",
            "  _warn_prf(average, modifier, msg_start, len(result))\n",
            "/usr/local/lib/python3.10/dist-packages/sklearn/metrics/_classification.py:1344: UndefinedMetricWarning: Precision and F-score are ill-defined and being set to 0.0 in labels with no predicted samples. Use `zero_division` parameter to control this behavior.\n",
            "  _warn_prf(average, modifier, msg_start, len(result))\n",
            "/usr/local/lib/python3.10/dist-packages/sklearn/metrics/_classification.py:1344: UndefinedMetricWarning: Precision and F-score are ill-defined and being set to 0.0 in labels with no predicted samples. Use `zero_division` parameter to control this behavior.\n",
            "  _warn_prf(average, modifier, msg_start, len(result))\n"
          ]
        }
      ]
    }
  ]
}