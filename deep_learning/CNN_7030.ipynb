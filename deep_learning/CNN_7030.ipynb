{
  "nbformat": 4,
  "nbformat_minor": 0,
  "metadata": {
    "colab": {
      "provenance": [],
      "gpuType": "T4"
    },
    "kernelspec": {
      "name": "python3",
      "display_name": "Python 3"
    },
    "language_info": {
      "name": "python"
    },
    "accelerator": "GPU"
  },
  "cells": [
    {
      "cell_type": "code",
      "execution_count": 2,
      "metadata": {
        "colab": {
          "base_uri": "https://localhost:8080/"
        },
        "id": "_1WWVE6ivr_r",
        "outputId": "34c32f19-d49f-4d45-ee6b-12177d5ba4b8"
      },
      "outputs": [
        {
          "output_type": "stream",
          "name": "stdout",
          "text": [
            "Mounted at /gdrive\n"
          ]
        }
      ],
      "source": [
        "from google.colab import drive\n",
        "drive.mount('/gdrive')"
      ]
    },
    {
      "cell_type": "code",
      "source": [
        "import numpy as np # linear algebra\n",
        "import pandas as pd # data processing, CSV file I/O (e.g. pd.read_csv)\n",
        "import matplotlib.pyplot as plt\n",
        "import seaborn as sns\n",
        "import glob\n",
        "import cv2\n",
        "import os"
      ],
      "metadata": {
        "id": "XuzUccKXz7Yy"
      },
      "execution_count": 3,
      "outputs": []
    },
    {
      "cell_type": "code",
      "source": [
        "import os\n",
        "print(os.listdir(\"/gdrive/My Drive/projetum/Banana\"))\n"
      ],
      "metadata": {
        "colab": {
          "base_uri": "https://localhost:8080/"
        },
        "id": "9pOWuyNj0ABB",
        "outputId": "a3502cc2-32a6-406d-d04f-0d87a445e0ff"
      },
      "execution_count": 4,
      "outputs": [
        {
          "output_type": "stream",
          "name": "stdout",
          "text": [
            "['overripe', 'ripe', 'rotten', 'unripe']\n"
          ]
        }
      ]
    },
    {
      "cell_type": "code",
      "source": [
        "DATADIR = '/gdrive/My Drive/projetum/Banana'\n",
        "CATEGORIES=[\"overripe\",\"ripe\",\"rotten\",\"unripe\"]\n"
      ],
      "metadata": {
        "id": "fS21WrZzLqY6"
      },
      "execution_count": 5,
      "outputs": []
    },
    {
      "cell_type": "code",
      "source": [
        "IMG_SIZE = 100"
      ],
      "metadata": {
        "id": "4gHHT5PE-MMP"
      },
      "execution_count": 6,
      "outputs": []
    },
    {
      "cell_type": "code",
      "source": [
        "all_data =[]\n",
        "\n",
        "def create_all_data():\n",
        "    for category in CATEGORIES:\n",
        "        path=os.path.join(DATADIR, category)\n",
        "        class_num=CATEGORIES.index(category)\n",
        "        for img in os.listdir(path):\n",
        "            try:\n",
        "                img_array=cv2.imread(os.path.join(path,img))\n",
        "                new_array=cv2.resize(img_array,(IMG_SIZE,IMG_SIZE))\n",
        "                all_data.append([new_array,class_num])\n",
        "            except Exception as e:\n",
        "                print(\"hata\")\n",
        "create_all_data()"
      ],
      "metadata": {
        "id": "q992c9li-Op3"
      },
      "execution_count": 7,
      "outputs": []
    },
    {
      "cell_type": "code",
      "source": [
        "print(\"toplam görüntü sayısı: \",len(all_data))"
      ],
      "metadata": {
        "colab": {
          "base_uri": "https://localhost:8080/"
        },
        "id": "U5VPQNqA_rXq",
        "outputId": "d9aee216-1cbc-4968-916c-4e4b793a9b3d"
      },
      "execution_count": 8,
      "outputs": [
        {
          "output_type": "stream",
          "name": "stdout",
          "text": [
            "toplam görüntü sayısı:  13478\n"
          ]
        }
      ]
    },
    {
      "cell_type": "code",
      "source": [
        "X = []\n",
        "y = []\n",
        "\n",
        "for categories, label in all_data:\n",
        "  X.append(categories)\n",
        "  y.append(label)"
      ],
      "metadata": {
        "id": "0_uSbvcjUe0X"
      },
      "execution_count": 9,
      "outputs": []
    },
    {
      "cell_type": "code",
      "source": [
        "from sklearn.model_selection import train_test_split\n",
        "\n",
        "x_train, x_test, y_train, y_test = train_test_split(X, y, test_size=0.30, random_state =42)\n",
        "\n",
        "x_train, x_val, y_train, y_val = train_test_split(x_train, y_train, test_size=0.10, random_state=42)"
      ],
      "metadata": {
        "id": "4Oc_hkOMUj8G"
      },
      "execution_count": 10,
      "outputs": []
    },
    {
      "cell_type": "code",
      "source": [
        "x_train = np.array(x_train)\n",
        "x_test = np.array(x_test)\n",
        "\n",
        "y_train = np.array(y_train)\n",
        "y_test = np.array(y_test)\n",
        "\n",
        "x_val = np.array(x_val)\n",
        "y_val = np.array(y_val)"
      ],
      "metadata": {
        "id": "hz6IxUE_UofU"
      },
      "execution_count": 11,
      "outputs": []
    },
    {
      "cell_type": "code",
      "source": [
        "print(y_test)"
      ],
      "metadata": {
        "colab": {
          "base_uri": "https://localhost:8080/"
        },
        "id": "uVY12K3rp8na",
        "outputId": "beea8170-98b9-4be7-df85-7b96c2021554"
      },
      "execution_count": 12,
      "outputs": [
        {
          "output_type": "stream",
          "name": "stdout",
          "text": [
            "[1 1 3 ... 2 1 1]\n"
          ]
        }
      ]
    },
    {
      "cell_type": "code",
      "source": [
        "print(x_train.shape)\n",
        "print(x_test.shape)\n",
        "print(x_val.shape)\n",
        "\n",
        "print(y_train.shape)\n",
        "print(y_test.shape)\n",
        "print(y_val.shape)"
      ],
      "metadata": {
        "colab": {
          "base_uri": "https://localhost:8080/"
        },
        "id": "izR1RIleUqgD",
        "outputId": "b7df3ccf-b797-4276-b6f7-1b94bb15edaf"
      },
      "execution_count": 13,
      "outputs": [
        {
          "output_type": "stream",
          "name": "stdout",
          "text": [
            "(8490, 100, 100, 3)\n",
            "(4044, 100, 100, 3)\n",
            "(944, 100, 100, 3)\n",
            "(8490,)\n",
            "(4044,)\n",
            "(944,)\n"
          ]
        }
      ]
    },
    {
      "cell_type": "code",
      "source": [
        "\n",
        "import tensorflow as tf\n",
        "\n",
        "train_yCl = tf.keras.utils.to_categorical(y_train, num_classes=4)\n",
        "test_yCl = tf.keras.utils.to_categorical(y_test, num_classes=4)\n",
        "valid_yCl = tf.keras.utils.to_categorical(y_val, num_classes=4)"
      ],
      "metadata": {
        "id": "aygmwpfaUt5_"
      },
      "execution_count": 14,
      "outputs": []
    },
    {
      "cell_type": "code",
      "source": [
        "print(y_test)"
      ],
      "metadata": {
        "colab": {
          "base_uri": "https://localhost:8080/"
        },
        "id": "pW6OdG_RpHH3",
        "outputId": "13e050bb-41fe-4cf1-c14b-d24aef8c7101"
      },
      "execution_count": 15,
      "outputs": [
        {
          "output_type": "stream",
          "name": "stdout",
          "text": [
            "[1 1 3 ... 2 1 1]\n"
          ]
        }
      ]
    },
    {
      "cell_type": "code",
      "source": [
        "from keras.layers import Input, Dense, Activation, BatchNormalization, Flatten, Conv2D, MaxPooling2D, Dropout\n",
        "from keras.models import Sequential\n",
        "\n",
        "model = Sequential()\n",
        "\n",
        "model.add(Conv2D(64, (3,3), padding='same', input_shape=(IMG_SIZE, IMG_SIZE, 3)))\n",
        "model.add(Activation('relu'))\n",
        "model.add(Conv2D(64, (3,3), padding='same'))\n",
        "model.add(Activation('relu'))\n",
        "model.add(MaxPooling2D(pool_size=(2,2)))\n",
        "model.add(BatchNormalization())\n",
        "model.add(Dropout(0.1))\n",
        "\n",
        "model.add(Conv2D(64, (3,3), padding='same'))\n",
        "model.add(Activation('relu'))\n",
        "model.add(Conv2D(64, (3,3), padding='same'))\n",
        "model.add(Activation('relu'))\n",
        "model.add(MaxPooling2D(pool_size=(2,2)))\n",
        "model.add(BatchNormalization())\n",
        "model.add(Dropout(0.1))\n",
        "\n",
        "model.add(Conv2D(128, (3,3), padding='same'))\n",
        "model.add(Activation('relu'))\n",
        "model.add(Conv2D(128, (3,3), padding='same'))\n",
        "model.add(Activation('relu'))\n",
        "model.add(MaxPooling2D(pool_size=(2,2)))\n",
        "model.add(BatchNormalization())\n",
        "model.add(Dropout(0.1))\n",
        "\n",
        "model.add(Flatten())\n",
        "model.add(Dense(1024))\n",
        "model.add(Activation('relu'))\n",
        "model.add(Dropout(0.4))\n",
        "model.add(Dense(1024))\n",
        "model.add(Activation('relu'))\n",
        "model.add(Dense(4))\n",
        "model.add(Activation('softmax'))\n",
        "\n",
        "model.compile(loss=\"categorical_crossentropy\", optimizer=\"adam\", metrics=['accuracy'])"
      ],
      "metadata": {
        "id": "DcutY0cAUw2T"
      },
      "execution_count": 16,
      "outputs": []
    },
    {
      "cell_type": "code",
      "source": [
        "from tensorflow import keras\n",
        "\n",
        "callback_list = [\n",
        "    keras.callbacks.ModelCheckpoint(\n",
        "        filepath='model.h5',\n",
        "        monitor = 'val_accuracy', save_best_only=True, verbose=3\n",
        "    ),\n",
        "    keras.callbacks.EarlyStopping(monitor='val_loss', patience=10, verbose=3)\n",
        "]"
      ],
      "metadata": {
        "id": "TYsN7ExXU0_U"
      },
      "execution_count": 17,
      "outputs": []
    },
    {
      "cell_type": "code",
      "source": [
        "history = model.fit(x_train, train_yCl,\n",
        "                    batch_size=64,\n",
        "                    validation_data = (x_val, valid_yCl),\n",
        "                    callbacks = callback_list,\n",
        "                    epochs = 50\n",
        "                    )"
      ],
      "metadata": {
        "id": "5NhGGxCFU3LW",
        "colab": {
          "base_uri": "https://localhost:8080/"
        },
        "outputId": "a2f03fb4-ea61-4f18-f3bd-1d9bdc6a3e82"
      },
      "execution_count": 18,
      "outputs": [
        {
          "output_type": "stream",
          "name": "stdout",
          "text": [
            "Epoch 1/50\n",
            "133/133 [==============================] - ETA: 0s - loss: 0.9267 - accuracy: 0.7563\n",
            "Epoch 1: val_accuracy improved from -inf to 0.30508, saving model to model.h5\n"
          ]
        },
        {
          "output_type": "stream",
          "name": "stderr",
          "text": [
            "/usr/local/lib/python3.10/dist-packages/keras/src/engine/training.py:3103: UserWarning: You are saving your model as an HDF5 file via `model.save()`. This file format is considered legacy. We recommend using instead the native Keras format, e.g. `model.save('my_model.keras')`.\n",
            "  saving_api.save_model(\n"
          ]
        },
        {
          "output_type": "stream",
          "name": "stdout",
          "text": [
            "\b\b\b\b\b\b\b\b\b\b\b\b\b\b\b\b\b\b\b\b\b\b\b\b\b\b\b\b\b\b\b\b\b\b\b\b\b\b\b\b\b\b\b\b\b\b\b\b\b\b\b\b\b\b\b\b\b\b\b\b\b\b\b\b\b\b\b\b\b\b\b\b\b\b\b\b\b\b\b\b\b\b\b\b\r133/133 [==============================] - 30s 143ms/step - loss: 0.9267 - accuracy: 0.7563 - val_loss: 7.4009 - val_accuracy: 0.3051\n",
            "Epoch 2/50\n",
            "133/133 [==============================] - ETA: 0s - loss: 0.3552 - accuracy: 0.8702\n",
            "Epoch 2: val_accuracy improved from 0.30508 to 0.32733, saving model to model.h5\n",
            "133/133 [==============================] - 17s 125ms/step - loss: 0.3552 - accuracy: 0.8702 - val_loss: 3.5067 - val_accuracy: 0.3273\n",
            "Epoch 3/50\n",
            "133/133 [==============================] - ETA: 0s - loss: 0.2546 - accuracy: 0.9075\n",
            "Epoch 3: val_accuracy improved from 0.32733 to 0.62076, saving model to model.h5\n",
            "133/133 [==============================] - 17s 126ms/step - loss: 0.2546 - accuracy: 0.9075 - val_loss: 1.1934 - val_accuracy: 0.6208\n",
            "Epoch 4/50\n",
            "133/133 [==============================] - ETA: 0s - loss: 0.2246 - accuracy: 0.9184\n",
            "Epoch 4: val_accuracy did not improve from 0.62076\n",
            "133/133 [==============================] - 16s 119ms/step - loss: 0.2246 - accuracy: 0.9184 - val_loss: 1.8548 - val_accuracy: 0.5826\n",
            "Epoch 5/50\n",
            "133/133 [==============================] - ETA: 0s - loss: 0.1738 - accuracy: 0.9391\n",
            "Epoch 5: val_accuracy improved from 0.62076 to 0.81462, saving model to model.h5\n",
            "133/133 [==============================] - 17s 129ms/step - loss: 0.1738 - accuracy: 0.9391 - val_loss: 0.6844 - val_accuracy: 0.8146\n",
            "Epoch 6/50\n",
            "133/133 [==============================] - ETA: 0s - loss: 0.1403 - accuracy: 0.9494\n",
            "Epoch 6: val_accuracy did not improve from 0.81462\n",
            "133/133 [==============================] - 17s 126ms/step - loss: 0.1403 - accuracy: 0.9494 - val_loss: 3.2960 - val_accuracy: 0.5572\n",
            "Epoch 7/50\n",
            "133/133 [==============================] - ETA: 0s - loss: 0.1104 - accuracy: 0.9607\n",
            "Epoch 7: val_accuracy improved from 0.81462 to 0.89301, saving model to model.h5\n",
            "133/133 [==============================] - 18s 137ms/step - loss: 0.1104 - accuracy: 0.9607 - val_loss: 0.4170 - val_accuracy: 0.8930\n",
            "Epoch 8/50\n",
            "133/133 [==============================] - ETA: 0s - loss: 0.1134 - accuracy: 0.9598\n",
            "Epoch 8: val_accuracy did not improve from 0.89301\n",
            "133/133 [==============================] - 17s 126ms/step - loss: 0.1134 - accuracy: 0.9598 - val_loss: 5.4265 - val_accuracy: 0.4407\n",
            "Epoch 9/50\n",
            "133/133 [==============================] - ETA: 0s - loss: 0.1103 - accuracy: 0.9614\n",
            "Epoch 9: val_accuracy did not improve from 0.89301\n",
            "133/133 [==============================] - 16s 123ms/step - loss: 0.1103 - accuracy: 0.9614 - val_loss: 0.4463 - val_accuracy: 0.8898\n",
            "Epoch 10/50\n",
            "133/133 [==============================] - ETA: 0s - loss: 0.0728 - accuracy: 0.9750\n",
            "Epoch 10: val_accuracy did not improve from 0.89301\n",
            "133/133 [==============================] - 17s 125ms/step - loss: 0.0728 - accuracy: 0.9750 - val_loss: 1.6617 - val_accuracy: 0.7108\n",
            "Epoch 11/50\n",
            "133/133 [==============================] - ETA: 0s - loss: 0.0617 - accuracy: 0.9774\n",
            "Epoch 11: val_accuracy did not improve from 0.89301\n",
            "133/133 [==============================] - 17s 124ms/step - loss: 0.0617 - accuracy: 0.9774 - val_loss: 1.7926 - val_accuracy: 0.6356\n",
            "Epoch 12/50\n",
            "133/133 [==============================] - ETA: 0s - loss: 0.0780 - accuracy: 0.9754\n",
            "Epoch 12: val_accuracy improved from 0.89301 to 0.91949, saving model to model.h5\n",
            "133/133 [==============================] - 18s 132ms/step - loss: 0.0780 - accuracy: 0.9754 - val_loss: 0.3214 - val_accuracy: 0.9195\n",
            "Epoch 13/50\n",
            "133/133 [==============================] - ETA: 0s - loss: 0.0640 - accuracy: 0.9793\n",
            "Epoch 13: val_accuracy improved from 0.91949 to 0.92161, saving model to model.h5\n",
            "133/133 [==============================] - 17s 129ms/step - loss: 0.0640 - accuracy: 0.9793 - val_loss: 0.3545 - val_accuracy: 0.9216\n",
            "Epoch 14/50\n",
            "133/133 [==============================] - ETA: 0s - loss: 0.0744 - accuracy: 0.9746\n",
            "Epoch 14: val_accuracy did not improve from 0.92161\n",
            "133/133 [==============================] - 16s 123ms/step - loss: 0.0744 - accuracy: 0.9746 - val_loss: 0.3339 - val_accuracy: 0.9206\n",
            "Epoch 15/50\n",
            "133/133 [==============================] - ETA: 0s - loss: 0.0526 - accuracy: 0.9826\n",
            "Epoch 15: val_accuracy did not improve from 0.92161\n",
            "133/133 [==============================] - 16s 124ms/step - loss: 0.0526 - accuracy: 0.9826 - val_loss: 1.3208 - val_accuracy: 0.7638\n",
            "Epoch 16/50\n",
            "133/133 [==============================] - ETA: 0s - loss: 0.0655 - accuracy: 0.9800\n",
            "Epoch 16: val_accuracy did not improve from 0.92161\n",
            "133/133 [==============================] - 17s 126ms/step - loss: 0.0655 - accuracy: 0.9800 - val_loss: 1.3383 - val_accuracy: 0.7987\n",
            "Epoch 17/50\n",
            "133/133 [==============================] - ETA: 0s - loss: 0.0344 - accuracy: 0.9882\n",
            "Epoch 17: val_accuracy did not improve from 0.92161\n",
            "133/133 [==============================] - 17s 126ms/step - loss: 0.0344 - accuracy: 0.9882 - val_loss: 0.3832 - val_accuracy: 0.9131\n",
            "Epoch 18/50\n",
            "133/133 [==============================] - ETA: 0s - loss: 0.0475 - accuracy: 0.9842\n",
            "Epoch 18: val_accuracy did not improve from 0.92161\n",
            "133/133 [==============================] - 17s 126ms/step - loss: 0.0475 - accuracy: 0.9842 - val_loss: 0.6338 - val_accuracy: 0.8496\n",
            "Epoch 19/50\n",
            "133/133 [==============================] - ETA: 0s - loss: 0.0452 - accuracy: 0.9857\n",
            "Epoch 19: val_accuracy did not improve from 0.92161\n",
            "133/133 [==============================] - 16s 123ms/step - loss: 0.0452 - accuracy: 0.9857 - val_loss: 1.5579 - val_accuracy: 0.7744\n",
            "Epoch 20/50\n",
            "133/133 [==============================] - ETA: 0s - loss: 0.0440 - accuracy: 0.9846\n",
            "Epoch 20: val_accuracy did not improve from 0.92161\n",
            "133/133 [==============================] - 16s 124ms/step - loss: 0.0440 - accuracy: 0.9846 - val_loss: 0.7096 - val_accuracy: 0.8432\n",
            "Epoch 21/50\n",
            "133/133 [==============================] - ETA: 0s - loss: 0.0396 - accuracy: 0.9875\n",
            "Epoch 21: val_accuracy did not improve from 0.92161\n",
            "133/133 [==============================] - 17s 126ms/step - loss: 0.0396 - accuracy: 0.9875 - val_loss: 10.6423 - val_accuracy: 0.4947\n",
            "Epoch 22/50\n",
            "133/133 [==============================] - ETA: 0s - loss: 0.0601 - accuracy: 0.9819\n",
            "Epoch 22: val_accuracy did not improve from 0.92161\n",
            "133/133 [==============================] - 17s 125ms/step - loss: 0.0601 - accuracy: 0.9819 - val_loss: 0.6034 - val_accuracy: 0.8708\n",
            "Epoch 22: early stopping\n"
          ]
        }
      ]
    },
    {
      "cell_type": "code",
      "source": [
        "score_train = model.evaluate(x_train, train_yCl)\n",
        "print(\"Validation Accuracy: \", score_train[1])\n",
        "\n",
        "score_test = model.evaluate(x_test, test_yCl)\n",
        "print(\"Validation Accuracy: \", score_test[1])\n",
        "\n",
        "score_valid = model.evaluate(x_val, valid_yCl)\n",
        "print(\"Validation Accuracy: \", score_valid[1])"
      ],
      "metadata": {
        "colab": {
          "base_uri": "https://localhost:8080/"
        },
        "id": "wO2jeVVMU6Oz",
        "outputId": "0e6cf2b1-9a6e-4a87-904a-a27cf1e99feb"
      },
      "execution_count": 19,
      "outputs": [
        {
          "output_type": "stream",
          "name": "stdout",
          "text": [
            "266/266 [==============================] - 5s 15ms/step - loss: 0.2862 - accuracy: 0.9241\n",
            "Validation Accuracy:  0.9241460561752319\n",
            "127/127 [==============================] - 2s 17ms/step - loss: 0.5172 - accuracy: 0.8808\n",
            "Validation Accuracy:  0.8808110952377319\n",
            "30/30 [==============================] - 1s 27ms/step - loss: 0.6034 - accuracy: 0.8708\n",
            "Validation Accuracy:  0.8707627058029175\n"
          ]
        }
      ]
    },
    {
      "cell_type": "code",
      "source": [
        "from sklearn.metrics import accuracy_score, precision_score, recall_score, f1_score, confusion_matrix, classification_report\n",
        "\n",
        "# Test seti üzerinde tahmin yapma\n",
        "Y_pred = model.predict(x_test, steps=len(x_test))\n",
        "y_pred = np.argmax(Y_pred, axis=1)"
      ],
      "metadata": {
        "colab": {
          "base_uri": "https://localhost:8080/"
        },
        "id": "ziJ7jJ7cX9s1",
        "outputId": "8de33bd0-6ca5-426c-a317-5b856eca68ee"
      },
      "execution_count": 20,
      "outputs": [
        {
          "output_type": "stream",
          "name": "stdout",
          "text": [
            "4044/4044 [==============================] - 9s 2ms/step\n"
          ]
        }
      ]
    },
    {
      "cell_type": "code",
      "source": [
        "print(y_pred)"
      ],
      "metadata": {
        "colab": {
          "base_uri": "https://localhost:8080/"
        },
        "id": "AiRanFPhu-kw",
        "outputId": "7c01eca7-75f5-4011-dd32-e5482fce43f1"
      },
      "execution_count": 21,
      "outputs": [
        {
          "output_type": "stream",
          "name": "stdout",
          "text": [
            "[1 1 3 ... 2 1 1]\n"
          ]
        }
      ]
    },
    {
      "cell_type": "code",
      "source": [
        "# Gerçek etiketleri alma\n",
        "y_true = y_test"
      ],
      "metadata": {
        "id": "Acmh3ZamYlEt"
      },
      "execution_count": 22,
      "outputs": []
    },
    {
      "cell_type": "code",
      "source": [
        "print(y_test)"
      ],
      "metadata": {
        "colab": {
          "base_uri": "https://localhost:8080/"
        },
        "id": "xTxdDqN-vmKn",
        "outputId": "80efa411-10c1-4e12-874f-7075458c26f2"
      },
      "execution_count": 23,
      "outputs": [
        {
          "output_type": "stream",
          "name": "stdout",
          "text": [
            "[1 1 3 ... 2 1 1]\n"
          ]
        }
      ]
    },
    {
      "cell_type": "code",
      "source": [
        "# Accuracy, Precision, Recall, F1 Score hesaplama\n",
        "accuracy = accuracy_score(y_test, y_pred)\n",
        "precision = precision_score(y_test, y_pred, average='weighted')\n",
        "recall = recall_score(y_test, y_pred, average='weighted')\n",
        "f1 = f1_score(y_test, y_pred, average='weighted')"
      ],
      "metadata": {
        "id": "9u8wy8FVYobp"
      },
      "execution_count": 24,
      "outputs": []
    },
    {
      "cell_type": "code",
      "source": [
        "# Karmaşıklık Matrisi\n",
        "conf_matrix = confusion_matrix(y_test, y_pred)"
      ],
      "metadata": {
        "id": "8bVMyEOYYrL0"
      },
      "execution_count": 25,
      "outputs": []
    },
    {
      "cell_type": "code",
      "source": [
        "\n",
        "# Classification Report\n",
        "class_report = classification_report(y_test, y_pred)\n"
      ],
      "metadata": {
        "id": "LZ1iGh5bYvcU"
      },
      "execution_count": 26,
      "outputs": []
    },
    {
      "cell_type": "code",
      "source": [
        "\n",
        "# Sonuçları gösterme\n",
        "print(\"Test Accuracy:\", accuracy)\n",
        "print(\"Precision:\", precision)\n",
        "print(\"Recall:\", recall)\n",
        "print(\"F1 Score:\", f1)\n",
        "print(\"Confusion Matrix:\")\n",
        "print(conf_matrix)\n",
        "print(\"Classification Report:\")\n",
        "print(class_report)"
      ],
      "metadata": {
        "colab": {
          "base_uri": "https://localhost:8080/"
        },
        "id": "O7qM1zhFYxOX",
        "outputId": "59aac740-757e-4025-e206-6b58db05192f"
      },
      "execution_count": 27,
      "outputs": [
        {
          "output_type": "stream",
          "name": "stdout",
          "text": [
            "Test Accuracy: 0.880811078140455\n",
            "Precision: 0.8922518116604764\n",
            "Recall: 0.880811078140455\n",
            "F1 Score: 0.8792091708637824\n",
            "Confusion Matrix:\n",
            "[[ 561   38  223    0]\n",
            " [  15 1127   51    0]\n",
            " [  13   47 1285   13]\n",
            " [   2   10   70  589]]\n",
            "Classification Report:\n",
            "              precision    recall  f1-score   support\n",
            "\n",
            "           0       0.95      0.68      0.79       822\n",
            "           1       0.92      0.94      0.93      1193\n",
            "           2       0.79      0.95      0.86      1358\n",
            "           3       0.98      0.88      0.93       671\n",
            "\n",
            "    accuracy                           0.88      4044\n",
            "   macro avg       0.91      0.86      0.88      4044\n",
            "weighted avg       0.89      0.88      0.88      4044\n",
            "\n"
          ]
        }
      ]
    }
  ]
}